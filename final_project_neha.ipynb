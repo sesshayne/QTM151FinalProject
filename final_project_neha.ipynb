{
 "cells": [
  {
   "cell_type": "code",
   "execution_count": 21,
   "metadata": {},
   "outputs": [],
   "source": [
    "import pandas as pd\n",
    "import matplotlib.pyplot as plt\n",
    "import numpy as np\n",
    "\n",
    "circuits = pd.read_csv(\"data_raw/circuits.csv\")\n",
    "\n",
    "circuits[\"country\"] = circuits[\"country\"].replace([\"United States\"],[\"USA\"])\n",
    "\n",
    "drivers = pd.read_csv(\"data_raw/drivers.csv\")\n",
    "\n",
    "drivers[\"nationality\"] = drivers[\"nationality\"].replace([\"East German\"],[\"German\"])\n",
    "drivers[\"nationality\"] = drivers[\"nationality\"].replace([\"American-Italian\"],[\"Italian\"])\n",
    "drivers[\"nationality\"] = drivers[\"nationality\"].replace([\"Argentine-Italian\"],[\"Italian\"])\n",
    "\n",
    "circuits[\"country\"] = circuits[\"country\"].replace([\"UK\"],[\"British\"])\n",
    "circuits[\"country\"] = circuits[\"country\"].replace([\"Spain\"],[\"Spanish\"])\n",
    "circuits[\"country\"] = circuits[\"country\"].replace([\"Japan\"],[\"Japanese\"])\n",
    "circuits[\"country\"] = circuits[\"country\"].replace([\"France\"],[\"French\"])\n",
    "circuits[\"country\"] = circuits[\"country\"].replace([\"Brazil\"],[\"Brazilian\"])\n",
    "circuits[\"country\"] = circuits[\"country\"].replace([\"Italy\"],[\"Italian\"])\n",
    "circuits[\"country\"] = circuits[\"country\"].replace([\"Australia\"],[\"Australian\"])\n",
    "circuits[\"country\"] = circuits[\"country\"].replace([\"Austria\"],[\"Austrian\"])\n",
    "circuits[\"country\"] = circuits[\"country\"].replace([\"USA\"],[\"American\"])\n",
    "circuits[\"country\"] = circuits[\"country\"].replace([\"Netherlands\"],[\"Dutch\"])\n",
    "circuits[\"country\"] = circuits[\"country\"].replace([\"Portugal\"],[\"Portuguese\"])\n",
    "circuits[\"country\"] = circuits[\"country\"].replace([\"Canada\"],[\"Canadian\"])\n",
    "circuits[\"country\"] = circuits[\"country\"].replace([\"India\"],[\"Indian\"])\n",
    "circuits[\"country\"] = circuits[\"country\"].replace([\"Hungary\"],[\"Hungarian\"])\n",
    "circuits[\"country\"] = circuits[\"country\"].replace([\"Argentina\"],[\"Argentine\"])\n",
    "circuits[\"country\"] = circuits[\"country\"].replace([\"Malaysia\"],[\"Malaysian\"])\n",
    "circuits[\"country\"] = circuits[\"country\"].replace([\"Switzerland\"],[\"Swiss\"])\n",
    "circuits[\"country\"] = circuits[\"country\"].replace([\"Belgium\"],[\"Belgian\"])\n",
    "circuits[\"country\"] = circuits[\"country\"].replace([\"Monaco\"],[\"Monegasque\"])\n",
    "circuits[\"country\"] = circuits[\"country\"].replace([\"Sweden\"],[\"Swedish\"])\n",
    "circuits[\"country\"] = circuits[\"country\"].replace([\"Mexico\"],[\"Mexican\"])\n",
    "circuits[\"country\"] = circuits[\"country\"].replace([\"South Africa\"],[\"South African\"])\n",
    "circuits[\"country\"] = circuits[\"country\"].replace([\"Russia\"],[\"Russian\"])\n",
    "circuits[\"country\"] = circuits[\"country\"].replace([\"China\"],[\"Chinese\"])\n",
    "\n",
    "results = pd.read_csv(\"data_raw/results.csv\")\n",
    "\n",
    "races = pd.read_csv(\"data_raw/races.csv\")\n",
    "\n",
    "races_merge = pd.merge(races,\n",
    "                         circuits[[\"circuitId\", \"country\"]],\n",
    "                         on = \"circuitId\",\n",
    "                         how = \"left\")\n",
    "\n",
    "results_merge1 = pd.merge(results,\n",
    "                         races_merge[[\"raceId\", \"country\", \"year\"]],\n",
    "                         on = \"raceId\",\n",
    "                         how = \"left\")\n",
    "\n",
    "results_merge_final = pd.merge(results_merge1,\n",
    "                         drivers[[\"driverId\", \"nationality\", \"forename\", \"surname\"]],\n",
    "                         on = \"driverId\",\n",
    "                         how = \"left\")\n",
    "\n",
    "results_merge_final = results_merge_final[[\"raceId\",\"nationality\",\"year\", \"country\", \"milliseconds\", \"driverId\", \"forename\", \"surname\"]]\n"
   ]
  },
  {
   "cell_type": "code",
   "execution_count": 23,
   "id": "4d0d1649",
   "metadata": {},
   "outputs": [
    {
     "name": "stdout",
     "output_type": "stream",
     "text": [
      "['\\\\N']\n"
     ]
    }
   ],
   "source": [
    "\n",
    "subset      = results_merge_final.query(\"milliseconds.str.isnumeric() == False\")\n",
    "list_unique = pd.unique(subset[\"milliseconds\"])\n",
    "print(list_unique)\n",
    "list_old = ['\\\\N']\n",
    "list_new = [np.nan]\n",
    "results_merge_final[\"milliseconds\"] = results_merge_final[\"milliseconds\"].replace(list_old, list_new)"
   ]
  },
  {
   "cell_type": "code",
   "execution_count": 26,
   "id": "46923e38",
   "metadata": {},
   "outputs": [],
   "source": [
    "results_merge_final = results_merge_final.dropna()"
   ]
  },
  {
   "cell_type": "code",
   "execution_count": null,
   "id": "fe40f01f",
   "metadata": {},
   "outputs": [],
   "source": []
  },
  {
   "cell_type": "code",
   "execution_count": 28,
   "id": "240f0d4c",
   "metadata": {},
   "outputs": [],
   "source": [
    "# subset_nat_match  = results_merge_final.query(\"nationality == country\")"
   ]
  }
 ],
 "metadata": {
  "kernelspec": {
   "display_name": "base",
   "language": "python",
   "name": "python3"
  },
  "language_info": {
   "name": "python",
   "version": "3.9.13"
  }
 },
 "nbformat": 4,
 "nbformat_minor": 5
}
