{
 "cells": [
  {
   "cell_type": "code",
   "execution_count": 3,
   "metadata": {},
   "outputs": [],
   "source": [
    "import pandas as pd\n",
    "import matplotlib.pyplot as plt\n",
    "import numpy as np"
   ]
  },
  {
   "cell_type": "code",
   "execution_count": 4,
   "id": "2c120bf6",
   "metadata": {},
   "outputs": [],
   "source": [
    "circuits = pd.read_csv(\"data_raw/circuits.csv\")\n",
    "drivers = pd.read_csv(\"data_raw/drivers.csv\")\n",
    "results = pd.read_csv(\"data_raw/results.csv\") \n",
    "races = pd.read_csv(\"data_raw/races.csv\")"
   ]
  },
  {
   "cell_type": "code",
   "execution_count": 5,
   "id": "372df312",
   "metadata": {},
   "outputs": [],
   "source": [
    "circuits[\"country\"] = circuits[\"country\"].replace([\"United States\"],[\"USA\"])\n",
    "\n",
    "drivers[\"nationality\"] = drivers[\"nationality\"].replace([\"East German\"],[\"German\"])\n",
    "drivers[\"nationality\"] = drivers[\"nationality\"].replace([\"American-Italian\"],[\"Italian\"])"
   ]
  },
  {
   "cell_type": "code",
   "execution_count": 6,
   "id": "fda6fd2e",
   "metadata": {},
   "outputs": [],
   "source": [
    "circuits[\"country\"] = circuits[\"country\"].replace([\"UK\"],[\"British\"])\n",
    "circuits[\"country\"] = circuits[\"country\"].replace([\"Spain\"],[\"Spanish\"])\n",
    "circuits[\"country\"] = circuits[\"country\"].replace([\"Japan\"],[\"Japanese\"])\n",
    "circuits[\"country\"] = circuits[\"country\"].replace([\"France\"],[\"French\"])\n",
    "circuits[\"country\"] = circuits[\"country\"].replace([\"Brazil\"],[\"Brazilian\"])\n",
    "circuits[\"country\"] = circuits[\"country\"].replace([\"Italy\"],[\"Italian\"])\n",
    "circuits[\"country\"] = circuits[\"country\"].replace([\"Australia\"],[\"Australian\"])\n",
    "circuits[\"country\"] = circuits[\"country\"].replace([\"Austria\"],[\"Austrian\"])\n",
    "circuits[\"country\"] = circuits[\"country\"].replace([\"USA\"],[\"American\"])\n",
    "circuits[\"country\"] = circuits[\"country\"].replace([\"Netherlands\"],[\"Dutch\"])\n",
    "circuits[\"country\"] = circuits[\"country\"].replace([\"Portugal\"],[\"Portuguese\"])\n",
    "circuits[\"country\"] = circuits[\"country\"].replace([\"Canada\"],[\"Canadian\"])\n",
    "circuits[\"country\"] = circuits[\"country\"].replace([\"India\"],[\"Indian\"])\n",
    "circuits[\"country\"] = circuits[\"country\"].replace([\"Hungary\"],[\"Hungarian\"])\n",
    "circuits[\"country\"] = circuits[\"country\"].replace([\"Argentina\"],[\"Argentine\"])\n",
    "circuits[\"country\"] = circuits[\"country\"].replace([\"Malaysia\"],[\"Malaysian\"])\n",
    "circuits[\"country\"] = circuits[\"country\"].replace([\"Switzerland\"],[\"Swiss\"])\n",
    "circuits[\"country\"] = circuits[\"country\"].replace([\"Belgium\"],[\"Belgian\"])\n",
    "circuits[\"country\"] = circuits[\"country\"].replace([\"Monaco\"],[\"Monegasque\"])\n",
    "circuits[\"country\"] = circuits[\"country\"].replace([\"Sweden\"],[\"Swedish\"])\n",
    "circuits[\"country\"] = circuits[\"country\"].replace([\"Mexico\"],[\"Mexican\"])\n",
    "circuits[\"country\"] = circuits[\"country\"].replace([\"South Africa\"],[\"South African\"])\n",
    "circuits[\"country\"] = circuits[\"country\"].replace([\"Russia\"],[\"Russian\"])\n",
    "circuits[\"country\"] = circuits[\"country\"].replace([\"China\"],[\"Chinese\"])"
   ]
  },
  {
   "cell_type": "code",
   "execution_count": 7,
   "id": "5f757c37",
   "metadata": {},
   "outputs": [],
   "source": [
    "races_merge = pd.merge(races,\n",
    "                         circuits[[\"circuitId\", \"country\"]],\n",
    "                         on = \"circuitId\",\n",
    "                         how = \"left\")\n",
    "\n",
    "results_merge1 = pd.merge(results,\n",
    "                         races_merge[[\"raceId\", \"country\", \"year\"]],\n",
    "                         on = \"raceId\",\n",
    "                         how = \"left\")\n",
    "\n",
    "results_merge_final = pd.merge(results_merge1,\n",
    "                         drivers[[\"driverId\", \"nationality\", \"forename\", \"surname\"]],\n",
    "                         on = \"driverId\",\n",
    "                         how = \"left\")"
   ]
  },
  {
   "cell_type": "code",
   "execution_count": 8,
   "id": "50d1f431",
   "metadata": {},
   "outputs": [
    {
     "name": "stdout",
     "output_type": "stream",
     "text": [
      "['\\\\N']\n"
     ]
    }
   ],
   "source": [
    "subset      = results_merge_final.query(\"milliseconds.str.isnumeric() == False\")\n",
    "list_unique = pd.unique(subset[\"milliseconds\"])\n",
    "print(list_unique)\n",
    "list_old = ['\\\\N']\n",
    "list_new = [np.nan]\n",
    "results_merge_final[\"milliseconds\"] = results_merge_final[\"milliseconds\"].replace(list_old, list_new)"
   ]
  },
  {
   "cell_type": "code",
   "execution_count": 9,
   "id": "fef607bb",
   "metadata": {},
   "outputs": [],
   "source": [
    "results_merge_final = results_merge_final.dropna()"
   ]
  },
  {
   "cell_type": "code",
   "execution_count": null,
   "id": "b5cff90b",
   "metadata": {},
   "outputs": [],
   "source": [
    "results_merge_final.group_by(raceId, min.milliseconds)"
   ]
  }
 ],
 "metadata": {
  "kernelspec": {
   "display_name": "base",
   "language": "python",
   "name": "python3"
  },
  "language_info": {
   "codemirror_mode": {
    "name": "ipython",
    "version": 3
   },
   "file_extension": ".py",
   "mimetype": "text/x-python",
   "name": "python",
   "nbconvert_exporter": "python",
   "pygments_lexer": "ipython3",
   "version": "3.9.13"
  },
  "vscode": {
   "interpreter": {
    "hash": "cd78fef2128015050713e82ca51c6520b11aee7c9ee8df750520bbbc7384cbaa"
   }
  }
 },
 "nbformat": 4,
 "nbformat_minor": 5
}
